{
 "cells": [
  {
   "cell_type": "code",
   "execution_count": 2,
   "metadata": {},
   "outputs": [
    {
     "data": {
      "text/html": [
       "<div>\n",
       "<style scoped>\n",
       "    .dataframe tbody tr th:only-of-type {\n",
       "        vertical-align: middle;\n",
       "    }\n",
       "\n",
       "    .dataframe tbody tr th {\n",
       "        vertical-align: top;\n",
       "    }\n",
       "\n",
       "    .dataframe thead th {\n",
       "        text-align: right;\n",
       "    }\n",
       "</style>\n",
       "<table border=\"1\" class=\"dataframe\">\n",
       "  <thead>\n",
       "    <tr style=\"text-align: right;\">\n",
       "      <th></th>\n",
       "      <th>original_vido_id video_id frame_id path labels</th>\n",
       "    </tr>\n",
       "  </thead>\n",
       "  <tbody>\n",
       "    <tr>\n",
       "      <th>0</th>\n",
       "      <td>-5KQ66BBWC4 0 0 -5KQ66BBWC4/-5KQ66BBWC4_000001...</td>\n",
       "    </tr>\n",
       "    <tr>\n",
       "      <th>1</th>\n",
       "      <td>-5KQ66BBWC4 0 1 -5KQ66BBWC4/-5KQ66BBWC4_000002...</td>\n",
       "    </tr>\n",
       "    <tr>\n",
       "      <th>2</th>\n",
       "      <td>-5KQ66BBWC4 0 2 -5KQ66BBWC4/-5KQ66BBWC4_000003...</td>\n",
       "    </tr>\n",
       "    <tr>\n",
       "      <th>3</th>\n",
       "      <td>-5KQ66BBWC4 0 3 -5KQ66BBWC4/-5KQ66BBWC4_000004...</td>\n",
       "    </tr>\n",
       "    <tr>\n",
       "      <th>4</th>\n",
       "      <td>-5KQ66BBWC4 0 4 -5KQ66BBWC4/-5KQ66BBWC4_000005...</td>\n",
       "    </tr>\n",
       "    <tr>\n",
       "      <th>5</th>\n",
       "      <td>-5KQ66BBWC4 0 5 -5KQ66BBWC4/-5KQ66BBWC4_000006...</td>\n",
       "    </tr>\n",
       "    <tr>\n",
       "      <th>6</th>\n",
       "      <td>-5KQ66BBWC4 0 6 -5KQ66BBWC4/-5KQ66BBWC4_000007...</td>\n",
       "    </tr>\n",
       "    <tr>\n",
       "      <th>7</th>\n",
       "      <td>-5KQ66BBWC4 0 7 -5KQ66BBWC4/-5KQ66BBWC4_000008...</td>\n",
       "    </tr>\n",
       "    <tr>\n",
       "      <th>8</th>\n",
       "      <td>-5KQ66BBWC4 0 8 -5KQ66BBWC4/-5KQ66BBWC4_000009...</td>\n",
       "    </tr>\n",
       "    <tr>\n",
       "      <th>9</th>\n",
       "      <td>-5KQ66BBWC4 0 9 -5KQ66BBWC4/-5KQ66BBWC4_000010...</td>\n",
       "    </tr>\n",
       "  </tbody>\n",
       "</table>\n",
       "</div>"
      ],
      "text/plain": [
       "      original_vido_id video_id frame_id path labels\n",
       "0  -5KQ66BBWC4 0 0 -5KQ66BBWC4/-5KQ66BBWC4_000001...\n",
       "1  -5KQ66BBWC4 0 1 -5KQ66BBWC4/-5KQ66BBWC4_000002...\n",
       "2  -5KQ66BBWC4 0 2 -5KQ66BBWC4/-5KQ66BBWC4_000003...\n",
       "3  -5KQ66BBWC4 0 3 -5KQ66BBWC4/-5KQ66BBWC4_000004...\n",
       "4  -5KQ66BBWC4 0 4 -5KQ66BBWC4/-5KQ66BBWC4_000005...\n",
       "5  -5KQ66BBWC4 0 5 -5KQ66BBWC4/-5KQ66BBWC4_000006...\n",
       "6  -5KQ66BBWC4 0 6 -5KQ66BBWC4/-5KQ66BBWC4_000007...\n",
       "7  -5KQ66BBWC4 0 7 -5KQ66BBWC4/-5KQ66BBWC4_000008...\n",
       "8  -5KQ66BBWC4 0 8 -5KQ66BBWC4/-5KQ66BBWC4_000009...\n",
       "9  -5KQ66BBWC4 0 9 -5KQ66BBWC4/-5KQ66BBWC4_000010..."
      ]
     },
     "execution_count": 2,
     "metadata": {},
     "output_type": "execute_result"
    }
   ],
   "source": [
    "import pandas\n",
    "train_frame_list = pandas.read_csv('../ava/frame_lists/train.csv')\n",
    "train_frame_list.head(10)"
   ]
  },
  {
   "cell_type": "code",
   "execution_count": 3,
   "metadata": {},
   "outputs": [
    {
     "name": "stdout",
     "output_type": "stream",
     "text": [
      "(6352104, 1)\n"
     ]
    }
   ],
   "source": [
    "print(train_frame_list.shape)"
   ]
  },
  {
   "cell_type": "code",
   "execution_count": 5,
   "metadata": {},
   "outputs": [
    {
     "name": "stdout",
     "output_type": "stream",
     "text": [
      "   -5KQ66BBWC4  0902  0.077  0.151  0.283  0.811  80  1\n",
      "0  -5KQ66BBWC4   902  0.077  0.151  0.283  0.811   9  1\n",
      "1  -5KQ66BBWC4   902  0.226  0.032  0.366  0.497  12  0\n",
      "2  -5KQ66BBWC4   902  0.226  0.032  0.366  0.497  17  0\n",
      "3  -5KQ66BBWC4   902  0.226  0.032  0.366  0.497  80  0\n",
      "4  -5KQ66BBWC4   902  0.332  0.194  0.481  0.891  80  2\n",
      "5  -5KQ66BBWC4   902  0.332  0.194  0.481  0.891   9  2\n",
      "6  -5KQ66BBWC4   902  0.505  0.105  0.653  0.780   9  3\n",
      "7  -5KQ66BBWC4   902  0.626  0.146  0.805  0.818   9  5\n",
      "8  -5KQ66BBWC4   902  0.805  0.222  0.997  1.000  80  4\n",
      "9  -5KQ66BBWC4   902  0.805  0.222  0.997  1.000   9  4\n"
     ]
    }
   ],
   "source": [
    "train_label = pandas.read_csv('../ava/annotations-official-v2.2/ava_train_v2.2.csv')\n",
    "print(train_label.head(10))"
   ]
  },
  {
   "cell_type": "code",
   "execution_count": 6,
   "metadata": {},
   "outputs": [
    {
     "name": "stdout",
     "output_type": "stream",
     "text": [
      "(862662, 8)\n"
     ]
    }
   ],
   "source": [
    "print(train_label.shape)"
   ]
  },
  {
   "cell_type": "code",
   "execution_count": null,
   "metadata": {},
   "outputs": [],
   "source": []
  }
 ],
 "metadata": {
  "kernelspec": {
   "display_name": "slowfast",
   "language": "python",
   "name": "slowfast"
  },
  "language_info": {
   "codemirror_mode": {
    "name": "ipython",
    "version": 3
   },
   "file_extension": ".py",
   "mimetype": "text/x-python",
   "name": "python",
   "nbconvert_exporter": "python",
   "pygments_lexer": "ipython3",
   "version": "3.7.7"
  }
 },
 "nbformat": 4,
 "nbformat_minor": 4
}
